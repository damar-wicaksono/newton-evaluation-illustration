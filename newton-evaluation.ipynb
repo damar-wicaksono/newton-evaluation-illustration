{
 "cells": [
  {
   "cell_type": "markdown",
   "id": "2dd115e7-c170-415b-a588-8a42593eb540",
   "metadata": {},
   "source": [
    "# Evaluation of Newton Polynomials"
   ]
  },
  {
   "cell_type": "code",
   "execution_count": 1,
   "id": "71324db9-423f-49cc-b7ac-3a6309c0d31b",
   "metadata": {},
   "outputs": [],
   "source": [
    "import numpy as np\n",
    "import minterpy as mp\n",
    "import matplotlib.pyplot as plt"
   ]
  },
  {
   "cell_type": "markdown",
   "id": "7406b151-d1e9-4ca0-9ee0-bfafb9f0e30f",
   "metadata": {},
   "source": [
    "## Motivating problem: Interpolating polynomials\n",
    "\n",
    "Consider the three-dimensional Runge function:\n",
    "$$\n",
    "f(\\boldsymbol{x}) = \\frac{1}{1 + \\lVert \\boldsymbol{x} \\rVert^2},\\;\\; \\boldsymbol{x} \\in [-1, 1]^3.\n",
    "$$"
   ]
  },
  {
   "cell_type": "code",
   "execution_count": 2,
   "id": "bc42f4b0-6b28-40c7-9677-0b9e17229c09",
   "metadata": {},
   "outputs": [],
   "source": [
    "def runge(xx):\n",
    "    return 1 / (1 + np.sum(xx**2, axis=1))"
   ]
  },
  {
   "cell_type": "markdown",
   "id": "dca36eeb-21a4-4a14-973a-9dfe8c23a3da",
   "metadata": {},
   "source": [
    "Suppose we would like to create an interpolating polynomial $g$ of a polynomial degree $n$ with respect to $l_p$-degree $p$, such that at the interpolating points $\\{ \\boldsymbol{x}_*^{(i)} \\}_{i = 1}^N$ the following is satisfied:\n",
    "$$\n",
    "g \\left( \\boldsymbol{x}_*^{(i)} \\right) = f\\left(\\boldsymbol{x}_*^{(i)} \\right), \\; \\forall \\boldsymbol{x}_*^{(i)}.\n",
    "$$\n",
    "\n",
    "In Minterpy, we typically start with an interpolating polynomial in a Lagrange basis:\n",
    "$$\n",
    "g(\\boldsymbol{x}) = \\sum_{\\boldsymbol{\\alpha} \\in A_{m, n, p}} c_{L, \\boldsymbol{\\alpha}} \\, \\mathcal{L}_{\\boldsymbol{\\alpha}} (\\boldsymbol{x})\n",
    "$$\n",
    "\n",
    "where:\n",
    "\n",
    "- $A_{m, n, p} \\equiv \\left\\{ \\boldsymbol{\\alpha} \\in \\mathbb{N}^m \\colon \\lVert \\boldsymbol{\\alpha} \\rVert_p \\leq n \\right\\}$ is the set of multi-indices that generalizes the notion of polynomial degree $n$ to multiple dimensions $m$ with respect to an $l_p$-norm;\n",
    "- $\\mathcal{L}_{\\boldsymbol{\\alpha}}$ is the multivariate Lagrange basis associated with the multi-index element $\\boldsymbol{\\alpha}$;\n",
    "- $c_{N, \\boldsymbol{\\alpha}}$ is the Lagrange coefficient associated with the basis $\\mathcal{L}_{\\boldsymbol{\\alpha}}$;\n",
    "  it is the function value at a point in the interpolation grid (this is why we usually start with the Lagrange basis)."
   ]
  },
  {
   "cell_type": "markdown",
   "id": "c2d990c2-7dbf-404d-b310-a8a49fc9db4f",
   "metadata": {},
   "source": [
    "To create multi-index set in $m = 3$, for say, $n = 15$ and $p = 2.0$: "
   ]
  },
  {
   "cell_type": "code",
   "execution_count": 3,
   "id": "e4d6a2b3-bf8c-46dc-81aa-74ed0e23fb9b",
   "metadata": {},
   "outputs": [],
   "source": [
    "mi = mp.MultiIndexSet.from_degree(\n",
    "    spatial_dimension=3,\n",
    "    poly_degree=15,\n",
    "    lp_degree=2.0,\n",
    ")"
   ]
  },
  {
   "cell_type": "markdown",
   "id": "1bfd7df7-f859-43b5-b95d-d8b3aea4e316",
   "metadata": {},
   "source": [
    "The corresponding interpolation grid is constructed as follows:"
   ]
  },
  {
   "cell_type": "code",
   "execution_count": 4,
   "id": "ba50efaf-4207-4215-b197-2679ba64c16c",
   "metadata": {},
   "outputs": [],
   "source": [
    "grd = mp.Grid(mi)"
   ]
  },
  {
   "cell_type": "markdown",
   "id": "98c68b86-e2ed-4232-91d5-710c085fb135",
   "metadata": {},
   "source": [
    "A polynomial in the Lagrange basis is fully specified by the multi-index set and the corresponding coefficients:"
   ]
  },
  {
   "cell_type": "code",
   "execution_count": 5,
   "id": "ee634d08-766e-49cd-a032-6fe83769c285",
   "metadata": {},
   "outputs": [],
   "source": [
    "lag_coeffs = runge(grd.unisolvent_nodes)  # Evaluate the function at the interpolating points\n",
    "lag_poly = mp.LagrangePolynomial(mi, lag_coeffs)"
   ]
  },
  {
   "cell_type": "markdown",
   "id": "9a0fb642-dd94-48b9-97a8-0b8d23323322",
   "metadata": {},
   "source": [
    "## Polynomials in Newton basis"
   ]
  },
  {
   "cell_type": "markdown",
   "id": "037fb86c-34d2-4236-850b-a069ed3811f8",
   "metadata": {},
   "source": [
    "Suppose now we'd like to evaluate such a polynomial on a set of query points, we first transform the polynomial in the Lagrange basis to the Newton basis:\n",
    "$$\n",
    "g(\\boldsymbol{x}) = \\sum_{\\boldsymbol{\\alpha} \\in A_{m, n, p}} c_{N, \\boldsymbol{\\alpha}} \\, \\mathcal{N}_{\\boldsymbol{\\alpha}} (\\boldsymbol{x}), \n",
    "$$\n",
    "where:\n",
    "\n",
    "- $\\mathcal{N}_{\\boldsymbol{\\alpha}}$ is the multivariate Newton basis associated with the multi-index element $\\boldsymbol{\\alpha}$.\n",
    "- $c_{N, \\boldsymbol{\\alpha}}$ is the Newton coefficient associated with the basis $\\mathcal{N}_{\\boldsymbol{\\alpha}}$."
   ]
  },
  {
   "cell_type": "markdown",
   "id": "d7b7066c-c64f-4e65-93cc-6a071e868ed0",
   "metadata": {},
   "source": [
    "To transform the polynomial from the Lagrange basis to the Newton basis in Minterpy, type:"
   ]
  },
  {
   "cell_type": "code",
   "execution_count": 6,
   "id": "c9cc4dcd-bc63-42b9-b36e-66e198628810",
   "metadata": {},
   "outputs": [],
   "source": [
    "nwt_poly = mp.LagrangeToNewton(lag_poly)()"
   ]
  },
  {
   "cell_type": "markdown",
   "id": "83a999a3-d65c-4e9f-bb96-8af717257760",
   "metadata": {},
   "source": [
    "Once we obtain the polynomial in the Newton basis, we are ready to evaluate the polynomial."
   ]
  },
  {
   "cell_type": "markdown",
   "id": "ee8cc362-85fa-4e11-8dd3-625b2ac650db",
   "metadata": {},
   "source": [
    "## Evaluation of Newton polynomials\n",
    "\n",
    "Let $\\{ \\boldsymbol{x}^{(k)} \\}_{k = 1}^K$ be a set of points at which we would like to evaluate our interpolating polynomial.\n",
    "In essence, evaluating a multi-dimensional polynomial in Newton basis boils down to the following matrix multiplication:\n",
    "$$\n",
    "\\begin{bmatrix}\n",
    "\\mathcal{N}_{\\boldsymbol{\\alpha}^{(1)}} (\\boldsymbol{x}^{(1)}) &\n",
    "\\mathcal{N}_{\\boldsymbol{\\alpha}^{(2)}} (\\boldsymbol{x}^{(1)}) & \n",
    "\\cdots & \n",
    "\\mathcal{N}_{\\boldsymbol{\\alpha}^{(N)}} (\\boldsymbol{x}^{(1)}) \\\\\n",
    "\\mathcal{N}_{\\boldsymbol{\\alpha}^{(1)}} (\\boldsymbol{x}^{(2)}) &\n",
    "\\mathcal{N}_{\\boldsymbol{\\alpha}^{(2)}} (\\boldsymbol{x}^{(2)}) & \n",
    "\\cdots & \n",
    "\\mathcal{N}_{\\boldsymbol{\\alpha}^{(N)}} (\\boldsymbol{x}^{(2)}) \\\\\n",
    "\\vdots & \\vdots & \\ddots & \\vdots \\\\\n",
    "\\mathcal{N}_{\\boldsymbol{\\alpha}^{(1)}} (\\boldsymbol{x}^{(K)}) &\n",
    "\\mathcal{N}_{\\boldsymbol{\\alpha}^{(2)}} (\\boldsymbol{x}^{(K)}) & \n",
    "\\cdots & \n",
    "\\mathcal{N}_{\\boldsymbol{\\alpha}^{(N)}} (\\boldsymbol{x}^{(K)}) \\\\\n",
    "\\end{bmatrix}\n",
    "\\begin{bmatrix}\n",
    "c_{\\boldsymbol{\\alpha}^{(1)}} \\\\\n",
    "c_{\\boldsymbol{\\alpha}^{(2)}} \\\\\n",
    "\\vdots \\\\\n",
    "c_{\\boldsymbol{\\alpha}^{(N)}} \\\\\n",
    "\\end{bmatrix}\n",
    "$$\n",
    "where the matrix on the left corresponds to the Newton basis evaluated at the query points, i.e., the values of the Newton monomials at the query points).\n",
    "The size of this matrix is $K \\times N$, where\n",
    "$N$ as the cardinality of the multi-index set and $K$ as the size of the query points."
   ]
  },
  {
   "cell_type": "markdown",
   "id": "120a63a1-3283-4d6d-8c7e-91682b368349",
   "metadata": {},
   "source": [
    "In Minterpy, calling the polynomial with a set of query points:"
   ]
  },
  {
   "cell_type": "code",
   "execution_count": 7,
   "id": "7c982641-7791-41c2-9440-f36d85460017",
   "metadata": {},
   "outputs": [],
   "source": [
    "xx_test = -1 + 2 * np.random.rand(10000, 3)"
   ]
  },
  {
   "cell_type": "markdown",
   "id": "e5ba0fbe-bf78-4d4a-a538-d035e66689b6",
   "metadata": {},
   "source": [
    "...evaluate the polynomial:"
   ]
  },
  {
   "cell_type": "code",
   "execution_count": 8,
   "id": "c7ccbb75-918b-4b3f-ba1d-dcf944755ae3",
   "metadata": {},
   "outputs": [],
   "source": [
    "yy_poly = nwt_poly(xx_test)"
   ]
  },
  {
   "cell_type": "markdown",
   "id": "e5ebc846-bf7a-4489-967a-06bc2274f5f6",
   "metadata": {},
   "source": [
    "As the plot below illustrates, the interpolating polynomial provides a good approximation to the original function."
   ]
  },
  {
   "cell_type": "code",
   "execution_count": 9,
   "id": "98811a12-3b5f-4940-93fe-c0424fc96799",
   "metadata": {},
   "outputs": [
    {
     "data": {
      "image/png": "[encoded data removed]",
      "text/plain": [
       "<Figure size 640x480 with 1 Axes>"
      ]
     },
     "metadata": {},
     "output_type": "display_data"
    }
   ],
   "source": [
    "yy_test = runge(xx_test)\n",
    "plt.scatter(yy_test, yy_poly)\n",
    "plt.xlabel(\"Original function\", fontsize=14)\n",
    "plt.ylabel(\"Polynomial interpolation\", fontsize=14);"
   ]
  },
  {
   "cell_type": "markdown",
   "id": "d639d890-090b-4d51-9357-0d1c7c76802c",
   "metadata": {},
   "source": [
    "Typically we want to evaluate the polynomial on hundreds of thousands to millions of query points.\n",
    "The size of the evaluation problem depends on the cardinality of the multi-index set (which is problem dependent)\n",
    "as well as the number of query points.\n",
    "\n",
    "Below is an illustration how the cardinality of the set grows as a function of spatial dimension $m$, polynomial degree $n$, and $l_p$-degree $p$:"
   ]
  },
  {
   "cell_type": "markdown",
   "id": "3f54c23a-cc72-489a-ad2b-01392fe987ba",
   "metadata": {},
   "source": [
    "![title](mi-size.png)"
   ]
  },
  {
   "cell_type": "markdown",
   "id": "fccbb954-1f35-49df-be49-93eb0ce8e6ed",
   "metadata": {},
   "source": [
    "...which directly translates to the time it takes to evaluate, say 100'000 query points as shown below"
   ]
  },
  {
   "cell_type": "markdown",
   "id": "8d965daf-3dc3-4b22-9548-e2b3631e2019",
   "metadata": {},
   "source": [
    "![title](timing.png)"
   ]
  },
  {
   "cell_type": "markdown",
   "id": "dfb420ce-32c4-49dd-90a6-2a420c34b008",
   "metadata": {},
   "source": [
    "## Newton polynomials evaluation: Behind the scene\n",
    "\n",
    "The Newton monomials matrix is constructed element-wise by computing the Newton monomials at each query point:\n",
    "$$\n",
    "\\mathcal{N}_{\\boldsymbol{\\alpha}^{(i)}} (\\boldsymbol{x}^{(k)}) = \\prod_{l = 1}^{m} \\prod_{j = 1}^{\\alpha^{(i)}_l} \\left( x^{(k)}_l - p_{j, l} \\right).\n",
    "$$\n",
    "where $p_{j, l}$, $n_{\\mathrm{max}}$, $m$ are the generating points of the interpolation grid, the maximum degree in any given dimension, and the spatial dimension of the polynomial, respectively."
   ]
  },
  {
   "cell_type": "markdown",
   "id": "198066d0-ee58-4e80-958d-37f6a98e7e26",
   "metadata": {},
   "source": [
    "This is done in two main steps:\n",
    "- create a chained product \"look-up\" matrix with respect to the query point.\n",
    "- combined elements of the product \"look-up\" matrix according to the multi-index set to fill in the entry of the monomials matrix.\n",
    "\n",
    "The product \"look-up\" matrix for a given query point $\\boldsymbol{x}^{(k)} = \\left( x^{(k)}_1, \\ldots, x^{(k)}_m \\right)$ is as follows:\n",
    "\n",
    "$$\n",
    "\\mathbf{A} = \\begin{bmatrix}\n",
    "1.0 &\n",
    "1.0 & \n",
    "\\cdots & \n",
    "1.0 \\\\\n",
    "(x^{k}_1 - p_{1, 1}) &\n",
    "(x^{k}_2 - p_{1, 2}) & \n",
    "\\cdots & \n",
    "(x^{k}_m - p_{1, m}) \\\\\n",
    "(x^{k}_1 - p_{1, 1}) (x^{k}_1 - p_{2, 1}) &\n",
    "(x^{k}_2 - p_{1, 2}) (x^{k}_2 - p_{2, 2}) & \n",
    "\\cdots & \n",
    "(x^{k}_m - p_{1, m}) (x^{k}_m - p_{2, m}) \\\\\n",
    "\\vdots & \\vdots & \\ddots & \\vdots \\\\\n",
    "\\prod_{j = 1}^{n_{\\mathrm{max}}} (x^{k}_1 - p_{j, 1}) & \n",
    "\\prod_{j = 1}^{n_{\\mathrm{max}}} (x^{k}_1 - p_{j, 2}) & \n",
    "\\cdots &\n",
    "\\prod_{j = 1}^{n_{\\mathrm{max}}} (x^{k}_m - p_{j, m}) \\\\\n",
    "\\end{bmatrix}\n",
    "$$\n",
    "The size of this matrix is $(n_{\\mathrm{max}} + 1) \\times m$.,"
   ]
  },
  {
   "cell_type": "markdown",
   "id": "ca70c834-fbbb-4464-9f36-f2d46b4171e4",
   "metadata": {},
   "source": [
    "Because the product \"look-up\" matrix has been precomputed for a given query point,\n",
    "to compute $\\mathcal{N}_{\\boldsymbol{\\alpha}^{(i)}} (\\boldsymbol{x}^{(k)})$ for $\\boldsymbol{\\alpha}^{(i)} = \\left( \\alpha^{(i)}_1, \\ldots, \\alpha^{(i)}_m \\right)$\n",
    "we take the following product:\n",
    "$$\n",
    "\\mathcal{N}_{\\boldsymbol{\\alpha}^{(i)}} (\\boldsymbol{x}^{(k)}) = a_{\\alpha^{(i)}_1 + 1, 1} \\cdot \\ldots \\cdot a_{\\alpha^{(i)}_m + 1, m}  \n",
    "$$\n",
    "Each row of the Newton monomials matrix consists of $N$ (one for each multi-index element) of $\\mathcal{N}_{\\boldsymbol{\\alpha}^{(i)}} (\\boldsymbol{x}^{(k)})$'s evaluated at $\\boldsymbol{x}^{(k)}$."
   ]
  },
  {
   "cell_type": "markdown",
   "id": "d8f7d4a9-79df-44c9-a021-d89851c92883",
   "metadata": {},
   "source": [
    "Once this matrix has been constructed, multiply it with the corresponding $N \\times 1$ Newton polynomial coefficients to obtain the polynomial values at the $K$ query points.\n",
    "\n",
    "$$\n",
    "\\begin{bmatrix}\n",
    "\\mathcal{N}_{\\boldsymbol{\\alpha}^{(1)}} (\\boldsymbol{x}^{(1)}) &\n",
    "\\mathcal{N}_{\\boldsymbol{\\alpha}^{(2)}} (\\boldsymbol{x}^{(1)}) & \n",
    "\\cdots & \n",
    "\\mathcal{N}_{\\boldsymbol{\\alpha}^{(N)}} (\\boldsymbol{x}^{(1)}) \\\\\n",
    "\\mathcal{N}_{\\boldsymbol{\\alpha}^{(1)}} (\\boldsymbol{x}^{(2)}) &\n",
    "\\mathcal{N}_{\\boldsymbol{\\alpha}^{(2)}} (\\boldsymbol{x}^{(2)}) & \n",
    "\\cdots & \n",
    "\\mathcal{N}_{\\boldsymbol{\\alpha}^{(N)}} (\\boldsymbol{x}^{(2)}) \\\\\n",
    "\\vdots & \\vdots & \\ddots & \\vdots \\\\\n",
    "\\mathcal{N}_{\\boldsymbol{\\alpha}^{(1)}} (\\boldsymbol{x}^{(K)}) &\n",
    "\\mathcal{N}_{\\boldsymbol{\\alpha}^{(2)}} (\\boldsymbol{x}^{(K)}) & \n",
    "\\cdots & \n",
    "\\mathcal{N}_{\\boldsymbol{\\alpha}^{(N)}} (\\boldsymbol{x}^{(K)}) \\\\\n",
    "\\end{bmatrix}\n",
    "\\begin{bmatrix}\n",
    "c_{\\boldsymbol{\\alpha}^{(1)}} \\\\\n",
    "c_{\\boldsymbol{\\alpha}^{(2)}} \\\\\n",
    "\\vdots \\\\\n",
    "c_{\\boldsymbol{\\alpha}^{(N)}} \\\\\n",
    "\\end{bmatrix}\n",
    "$$"
   ]
  },
  {
   "cell_type": "markdown",
   "id": "8eec089d-b739-4f3d-995d-61c779b9a55c",
   "metadata": {},
   "source": [
    "## Current efforts to accelerate\n",
    "\n",
    "- Some functionalities involving loops such as the computation of the product \"look-up matrix\" and the monomials matrix are compiled with the help of `Numba`.\n",
    "- Simple parallel evaluations using the `multiprocessing` module for multiple batches of query points.\n",
    "\n",
    "_Could GPU be of help accelerating the evaluation of Newton polynomials in Minterpy?_\n",
    "\n",
    "**Note**: In an interpolation setting, we obtain the set of $c_{N, \\boldsymbol{\\alpha}}$'s from the transformation of function values at the (unisolvent) interpolation grid points (i.e., the _Lagrange_ coefficients) to the Newton coefficients. In the present context, we take $c_{N, \\boldsymbol{\\alpha}}$ as given and focus on the problem of evaluating a Newton polynomials on a set of query points."
   ]
  }
 ],
 "metadata": {
  "kernelspec": {
   "display_name": "Python 3 (ipykernel)",
   "language": "python",
   "name": "python3"
  },
  "language_info": {
   "codemirror_mode": {
    "name": "ipython",
    "version": 3
   },
   "file_extension": ".py",
   "mimetype": "text/x-python",
   "name": "python",
   "nbconvert_exporter": "python",
   "pygments_lexer": "ipython3",
   "version": "3.8.18"
  }
 },
 "nbformat": 4,
 "nbformat_minor": 5
}
