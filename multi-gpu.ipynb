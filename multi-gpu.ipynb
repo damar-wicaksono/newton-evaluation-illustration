{
 "cells": [
  {
   "cell_type": "markdown",
   "id": "424b6c60-d3ce-4e60-8d84-ef7c2ebc976a",
   "metadata": {
    "tags": []
   },
   "source": [
    "[Numba Tutorial](https://github.com/ContinuumIO/numbapro-examples/blob/master/multigpu/multigpu_mt.py)"
   ]
  },
  {
   "cell_type": "markdown",
   "id": "2bdf31b2-d73c-4c1e-a0bc-978417660097",
   "metadata": {},
   "source": [
    "## Numba Newtown eval"
   ]
  },
  {
   "cell_type": "code",
   "execution_count": 1,
   "id": "0242cf8c-0603-4c08-a00c-22ed84210093",
   "metadata": {
    "tags": []
   },
   "outputs": [],
   "source": [
    "import threading\n",
    "import numpy as np\n",
    "\n",
    "from math import ceil\n",
    "from numba import cuda\n",
    "\n",
    "import minterpy as mp"
   ]
  },
  {
   "cell_type": "code",
   "execution_count": 2,
   "id": "93e719e6-1313-4109-a345-2c582b361b99",
   "metadata": {
    "tags": []
   },
   "outputs": [
    {
     "name": "stdout",
     "output_type": "stream",
     "text": [
      "System has 4 CUDA devices\n"
     ]
    }
   ],
   "source": [
    "print('System has %d CUDA devices' % len(cuda.list_devices()))"
   ]
  },
  {
   "cell_type": "code",
   "execution_count": 3,
   "id": "e6347a5d-9fdd-4d7a-a7e3-6738de14f99c",
   "metadata": {
    "tags": []
   },
   "outputs": [],
   "source": [
    "signature = 'void(float64[:], float64[:], float64[:], float64[:], float64[:])'"
   ]
  },
  {
   "cell_type": "code",
   "execution_count": 4,
   "id": "03042669-da8c-4848-a160-6f9dd065f5ad",
   "metadata": {
    "tags": []
   },
   "outputs": [],
   "source": [
    "@cuda.jit(device=True)\n",
    "def monomial(\n",
    "    x_single: np.ndarray,\n",
    "    exponent_single: np.ndarray,\n",
    "    points: np.ndarray,\n",
    "):\n",
    "    m = len(exponent_single)\n",
    "    tmp = 1.0\n",
    "    for i in range(m):\n",
    "        for j in range(exponent_single[i]):\n",
    "            p_ij = points[j, i]\n",
    "            tmp *= x_single[i] - p_ij\n",
    "\n",
    "    return tmp"
   ]
  },
  {
   "cell_type": "code",
   "execution_count": 5,
   "id": "5ded21e1-2953-4ea4-b9c3-0cfd2f1ab3e4",
   "metadata": {
    "tags": []
   },
   "outputs": [],
   "source": [
    "def kernel(\n",
    "    xx: np.ndarray,\n",
    "    exponents: np.ndarray,\n",
    "    points: np.ndarray,\n",
    "    coefficients: np.ndarray,\n",
    "    out: np.ndarray,\n",
    ") -> None:\n",
    "    \"\"\"Evaluate the Newton polynomial multiple query points (CUDA kernel).\"\"\"\n",
    "    row = cuda.grid(1)\n",
    "    N = exponents.shape[0]\n",
    "    if row < len(out):\n",
    "        tmp = 0.0\n",
    "        x_single = xx[row]\n",
    "        for i in range(N):\n",
    "            newton_monomials = monomial(x_single, exponents[i], points)\n",
    "            tmp += newton_monomials * coefficients[i]\n",
    "\n",
    "        out[row] = tmp"
   ]
  },
  {
   "cell_type": "code",
   "execution_count": 6,
   "id": "ae2b7583-2cba-47ee-871a-25301422236b",
   "metadata": {
    "tags": []
   },
   "outputs": [],
   "source": [
    "compiler_lock = threading.Lock()"
   ]
  },
  {
   "cell_type": "code",
   "execution_count": 7,
   "id": "40c7c2b9-96c0-4c13-9b23-2978d44fc068",
   "metadata": {
    "tags": []
   },
   "outputs": [],
   "source": [
    "def device_controller(cid, xx, exponents, points, coefficients, global_out):\n",
    "    cuda.select_device(cid)                    # bind device to thread\n",
    "    device = cuda.get_current_device()         # get current device\n",
    "    num_devices = len(cuda.list_devices())\n",
    "    \n",
    "    # print some information about the CUDA card\n",
    "    #prefix = '[%s]' % device\n",
    "    #print(prefix, 'device_controller', cid, '| CC', device.COMPUTE_CAPABILITY)\n",
    "\n",
    "    max_thread = device.MAX_THREADS_PER_BLOCK\n",
    "    \n",
    "    with compiler_lock:                        # lock the compiler\n",
    "        # prepare function for this thread\n",
    "        # the jitted CUDA kernel is loaded into the current context\n",
    "        cuda_kernel = cuda.jit(kernel)\n",
    "\n",
    "    # prepare data\n",
    "    N = int(ceil(float(xx.shape[0]) / num_devices))\n",
    "    start = int(cid * N)\n",
    "    stop = None\n",
    "    if cid < num_devices - 1:\n",
    "        stop=int((cid+1) * N)\n",
    "\n",
    "    # determine number of threads and blocks\n",
    "    if N >= max_thread:\n",
    "        ngrid = int(ceil(float(N) / max_thread))\n",
    "        nthread = max_thread\n",
    "    else:\n",
    "        ngrid = 1\n",
    "        nthread = N\n",
    "        \n",
    "    #print(prefix, 'grid x thread = %d x %d' % (ngrid, nthread))\n",
    "\n",
    "    # real CUDA work\n",
    "    d_xx = cuda.to_device(xx[start:stop, :])\n",
    "    d_exponents = cuda.to_device(exponents)\n",
    "    d_points = cuda.to_device(points)\n",
    "    d_coefficients = cuda.to_device(coefficients)\n",
    "    d_out = cuda.device_array((N))\n",
    "    \n",
    "    cuda_kernel[ngrid, nthread](\n",
    "        d_xx,\n",
    "        d_exponents,\n",
    "        d_points,\n",
    "        d_coefficients,\n",
    "        d_out\n",
    "    )\n",
    "    \n",
    "    global_out[start:stop] = d_out.copy_to_host()\n"
   ]
  },
  {
   "cell_type": "code",
   "execution_count": 8,
   "id": "73a49bfa-1560-4446-ac3a-7c5ae10f3b86",
   "metadata": {
    "tags": []
   },
   "outputs": [],
   "source": [
    "spatial_dimension = 4\n",
    "mi = mp.MultiIndexSet.from_degree(spatial_dimension, 45, 2.0)\n",
    "xx = -1 + 2 * np.random.rand(1000000, spatial_dimension)\n",
    "coefficients = np.random.rand(len(mi))\n",
    "exponents = mi.exponents\n",
    "grd = mp.Grid(mi)\n",
    "points = grd.generating_points\n",
    "out = np.zeros(1000000)"
   ]
  },
  {
   "cell_type": "code",
   "execution_count": 9,
   "id": "ef295449-1181-4f3c-bb15-e441c89a4799",
   "metadata": {
    "tags": []
   },
   "outputs": [],
   "source": [
    "children = []\n",
    "for cid, dev in enumerate(cuda.list_devices()):\n",
    "    t = threading.Thread(target=device_controller, args=(cid, xx, exponents, points, coefficients, out))\n",
    "    t.start()\n",
    "    children.append(t)\n",
    "\n",
    "for t in children:\n",
    "    t.join()"
   ]
  },
  {
   "cell_type": "code",
   "execution_count": null,
   "id": "58738037-8bfb-4337-afe3-987408b85304",
   "metadata": {
    "tags": []
   },
   "outputs": [],
   "source": [
    "out"
   ]
  },
  {
   "cell_type": "code",
   "execution_count": null,
   "id": "f718c781-3209-485b-a139-83e7addcc7d8",
   "metadata": {},
   "outputs": [],
   "source": []
  }
 ],
 "metadata": {
  "kernelspec": {
   "display_name": "conda_minterpy",
   "language": "python",
   "name": "conda_minterpy"
  },
  "language_info": {
   "codemirror_mode": {
    "name": "ipython",
    "version": 3
   },
   "file_extension": ".py",
   "mimetype": "text/x-python",
   "name": "python",
   "nbconvert_exporter": "python",
   "pygments_lexer": "ipython3",
   "version": "3.8.18"
  }
 },
 "nbformat": 4,
 "nbformat_minor": 5
}
